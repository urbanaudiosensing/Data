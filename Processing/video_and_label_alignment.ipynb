{
 "cells": [
  {
   "cell_type": "markdown",
   "id": "bfd6f86a",
   "metadata": {},
   "source": [
    "# Test Code for Cutting Videos at Whistle Time   \n",
    "This is a test code, that you can try cutting one video.   \n",
    "You can skip this part if you are ready to align all video and label files."
   ]
  },
  {
   "cell_type": "code",
   "execution_count": 7,
   "id": "9906d667",
   "metadata": {},
   "outputs": [],
   "source": [
    "import os\n",
    "import pandas as pd\n",
    "from moviepy.editor import VideoFileClip\n",
    "\n",
    "session = \"Session_10242023\"\n",
    "location = \"FifthSt_A\"\n",
    "camera = \"Camera1_GTgopro06\"\n",
    "filenames = [\"7262023_video1\"] \n",
    "\n",
    "for video in filenames:\n",
    "    clip = VideoFileClip('/media/backup_SSD/ASPED.b_Video/{s}/{l}/Video/{c}/{v}.MP4'.format(s = session, l = location, c = camera, v=video))\n",
    "    print(clip.fps)\n",
    "    \n",
    "start_frame = 827\n",
    "start_time = start_frame/clip.fps\n",
    "# end_time = 5000/clip.fps\n",
    "\n",
    "print(start_time)"
   ]
  },
  {
   "cell_type": "code",
   "execution_count": 10,
   "id": "936b551e",
   "metadata": {},
   "outputs": [
    {
     "data": {
      "text/plain": [
       "29.97002997002997"
      ]
     },
     "execution_count": 10,
     "metadata": {},
     "output_type": "execute_result"
    }
   ],
   "source": [
    "new_clip = clip.subclip(start_time)\n",
    "# new_clip = clip.subclip(start_time, end_time)\n",
    "\n",
    "for video in filenames:\n",
    "    new_clip.write_videofile('/media/backup_SSD/ASPED.b_Video/{s}/{l}/Video/{c}/{v}_clipped.MP4'.format(s = session, l = location, c = camera, v=video))"
   ]
  },
  {
   "cell_type": "markdown",
   "id": "0a5a184a",
   "metadata": {},
   "source": [
    "# Cut First Videos to Start at Whistle Time    \n",
    "Before you run this code, you should have the 'video_and_label_clip_metadata.csv' ready.   \n",
    "For each camera in each session, you should have a corresponding label (annotation) file.   \n",
    "In the label file, check the <b>frame number</b> of the moment when the timestamp is equal to the whistle-blown time.   \n",
    "In the metadata file, record the start_frame number as this frame number, as well as the session, location, camera information, video file name and label file name.   \n",
    "   \n",
    "   The clipped file is saved as [original_file_name]_clipped.csv  "
   ]
  },
  {
   "cell_type": "code",
   "execution_count": null,
   "id": "ff6f5e49",
   "metadata": {
    "scrolled": true
   },
   "outputs": [
    {
     "name": "stdout",
     "output_type": "stream",
     "text": [
      "Skipping 7262023_video1 because clipped file already exists.\n",
      "Skipping 7262023_video1 because clipped file already exists.\n",
      "Skipping 7262023_video1 because clipped file already exists.\n",
      "Skipping 7262023_video1 because clipped file already exists.\n",
      "Skipping 7262023_video1 because clipped file already exists.\n",
      "Skipping 7262023_video1 because clipped file already exists.\n",
      "Skipping 8092023_video1 because clipped file already exists.\n",
      "Skipping 8092023_video1 because clipped file already exists.\n",
      "Skipping 8092023_video1 because clipped file already exists.\n",
      "Skipping 8092023_video1 because clipped file already exists.\n",
      "Skipping 8092023_video1 because clipped file already exists.\n",
      "Skipping 8092023_video1 because clipped file already exists.\n",
      "Skipping 11282023_video1 because clipped file already exists.\n",
      "Skipping 11282023_video1 because clipped file already exists.\n",
      "Skipping 11282023_video1 because clipped file already exists.\n",
      "Skipping 11282023_video1 because clipped file already exists.\n",
      "Skipping 11282023_video1 because clipped file already exists.\n",
      "Skipping 11072023_video1 because clipped file already exists.\n",
      "Skipping 11072023_video1 because clipped file already exists.\n",
      "Skipping 11072023_video1 because clipped file already exists.\n",
      "Skipping 11072023_video1 because clipped file already exists.\n",
      "Skipping 11072023_video1 because clipped file already exists.\n",
      "Moviepy - Building video /media/backup_SSD/ASPED.b_Video/Session_10242023/FifthSt_A/Video/Camera1_GTgopro06/10242023_video1_clipped.MP4.\n",
      "Moviepy - Writing video /media/backup_SSD/ASPED.b_Video/Session_10242023/FifthSt_A/Video/Camera1_GTgopro06/10242023_video1_clipped.MP4\n",
      "\n"
     ]
    },
    {
     "name": "stderr",
     "output_type": "stream",
     "text": [
      "                                                                          \r"
     ]
    },
    {
     "name": "stdout",
     "output_type": "stream",
     "text": [
      "Moviepy - Done !\n",
      "Moviepy - video ready /media/backup_SSD/ASPED.b_Video/Session_10242023/FifthSt_A/Video/Camera1_GTgopro06/10242023_video1_clipped.MP4\n",
      "Moviepy - Building video /media/backup_SSD/ASPED.b_Video/Session_10242023/FifthSt_B/Video/Camera1_GTgopro05/10242023_video1_clipped.MP4.\n",
      "Moviepy - Writing video /media/backup_SSD/ASPED.b_Video/Session_10242023/FifthSt_B/Video/Camera1_GTgopro05/10242023_video1_clipped.MP4\n",
      "\n"
     ]
    },
    {
     "name": "stderr",
     "output_type": "stream",
     "text": [
      "                                                                          \r"
     ]
    },
    {
     "name": "stdout",
     "output_type": "stream",
     "text": [
      "Moviepy - Done !\n",
      "Moviepy - video ready /media/backup_SSD/ASPED.b_Video/Session_10242023/FifthSt_B/Video/Camera1_GTgopro05/10242023_video1_clipped.MP4\n",
      "Moviepy - Building video /media/backup_SSD/ASPED.b_Video/Session_10242023/FifthSt_C/Video/Camera1_GTgopro07/10242023_video1_clipped.MP4.\n",
      "Moviepy - Writing video /media/backup_SSD/ASPED.b_Video/Session_10242023/FifthSt_C/Video/Camera1_GTgopro07/10242023_video1_clipped.MP4\n",
      "\n"
     ]
    },
    {
     "name": "stderr",
     "output_type": "stream",
     "text": [
      "                                                                          \r"
     ]
    },
    {
     "name": "stdout",
     "output_type": "stream",
     "text": [
      "Moviepy - Done !\n",
      "Moviepy - video ready /media/backup_SSD/ASPED.b_Video/Session_10242023/FifthSt_C/Video/Camera1_GTgopro07/10242023_video1_clipped.MP4\n",
      "Moviepy - Building video /media/backup_SSD/ASPED.b_Video/Session_10242023/FifthSt_D/Video/Camera1_GTgopro04/10242023_video1_clipped.MP4.\n",
      "Moviepy - Writing video /media/backup_SSD/ASPED.b_Video/Session_10242023/FifthSt_D/Video/Camera1_GTgopro04/10242023_video1_clipped.MP4\n",
      "\n"
     ]
    },
    {
     "name": "stderr",
     "output_type": "stream",
     "text": [
      "t:  46%|████████▊          | 6824/14780 [01:35<02:07, 62.56it/s, now=None]"
     ]
    }
   ],
   "source": [
    "import os\n",
    "import pandas as pd\n",
    "from moviepy.editor import VideoFileClip\n",
    "\n",
    "# Read the CSV file\n",
    "df = pd.read_csv('/media/backup_SSD/ASPED.b_Audio/video_and_label_clip_metadata.csv')\n",
    "\n",
    "# Iterate through each row of the dataframe\n",
    "for index, row in df.iterrows():\n",
    "    session = row['session']\n",
    "    location = row['location']\n",
    "    camera = row['camera']\n",
    "    filename = row['filename']\n",
    "    start_frame = row['start_frame']\n",
    "    \n",
    "    # Define the output path for the clipped video\n",
    "    output_path = f'/media/backup_SSD/ASPED.b_Video/{session}/{location}/Video/{camera}/{filename}_clipped.MP4'\n",
    "\n",
    "    # Check if the _clipped file already exists\n",
    "    if os.path.exists(output_path):\n",
    "        print(f'Skipping {filename} because clipped file already exists.')\n",
    "        continue  # Skip to the next row\n",
    "\n",
    "    # Construct the video file path\n",
    "    video_path = f'/media/backup_SSD/ASPED.b_Video/{session}/{location}/Video/{camera}/{filename}.MP4'\n",
    "\n",
    "    # Load the video\n",
    "    clip = VideoFileClip(video_path)\n",
    "\n",
    "    # Calculate start time\n",
    "    start_time = start_frame / clip.fps\n",
    "\n",
    "    # Create a new subclip from the start_time\n",
    "    new_clip = clip.subclip(start_time)\n",
    "\n",
    "    # Write the new video file\n",
    "    new_clip.write_videofile(output_path, codec=\"libx264\")\n"
   ]
  },
  {
   "cell_type": "markdown",
   "id": "8813dc73",
   "metadata": {},
   "source": [
    "# Cut Labels   \n",
    "This part also requires the video_and_label_clip_metadata.csv to be complete.   \n",
    "Based on the start_frame of each camera, it cuts the rows that comes before the whistle time and restarts the frame number from 0 at whistle time.   \n",
    "The clipped file is saved as [original_file_name]_clipped.csv  "
   ]
  },
  {
   "cell_type": "code",
   "execution_count": 19,
   "id": "88476c1a",
   "metadata": {},
   "outputs": [
    {
     "name": "stdout",
     "output_type": "stream",
     "text": [
      "Skipping 7-26-FifthSt_A because clipped file already exists.\n",
      "Skipping 7-26-FifthSt_B because clipped file already exists.\n",
      "Skipping 7-26-FifthSt_C because clipped file already exists.\n",
      "Skipping 7-26-FifthSt_D because clipped file already exists.\n",
      "Skipping 7-26-FifthSt_E because clipped file already exists.\n",
      "Skipping 7-26-FifthSt_F because clipped file already exists.\n",
      "Skipping 8-9-FifthSt_A because clipped file already exists.\n",
      "Skipping 8-9-FifthSt_B because clipped file already exists.\n",
      "Skipping 8-9-FifthSt_C because clipped file already exists.\n",
      "Skipping 8-9-FifthSt_D because clipped file already exists.\n",
      "Skipping 8-9-FifthSt_E because clipped file already exists.\n",
      "Skipping 8-9-FifthSt_F because clipped file already exists.\n",
      "Skipping 11-28-FifthSt_B because clipped file already exists.\n",
      "Skipping 11-28-FifthSt_C because clipped file already exists.\n",
      "Skipping 11-28-FifthSt_D because clipped file already exists.\n",
      "Skipping 11-28-FifthSt_E because clipped file already exists.\n",
      "Skipping 11-28-FifthSt_F because clipped file already exists.\n",
      "Processed and updated 11-7-FifthSt_A.csv\n",
      "Processed and updated 11-7-FifthSt_C.csv\n",
      "Processed and updated 11-7-FifthSt_D.csv\n",
      "Processed and updated 11-7-FifthSt_E.csv\n",
      "Processed and updated 11-7-FifthSt_F.csv\n"
     ]
    }
   ],
   "source": [
    "import pandas as pd\n",
    "\n",
    "# Read the CSV file containing metadata\n",
    "df = pd.read_csv('/media/backup_SSD/ASPED.b_Audio/video_and_label_clip_metadata.csv')\n",
    "\n",
    "# Iterate through each row of the dataframe\n",
    "for index, row in df.iterrows():\n",
    "    session = row['session']\n",
    "    label_file = row['label_file']\n",
    "    start_frame = row['start_frame']\n",
    "    \n",
    "    # Construct the path to the label file\n",
    "    label_path = f'/media/backup_SSD/ASPED.b_Audio/{session}/Labels/{label_file}.csv'\n",
    "    \n",
    "    new_path = f'/media/backup_SSD/ASPED.b_Audio/{session}/Labels/{label_file}_clipped.csv'\n",
    "    \n",
    "        # Check if the _clipped file already exists\n",
    "    if os.path.exists(new_path):\n",
    "        print(f'Skipping {label_file} because clipped file already exists.')\n",
    "        continue  # Skip to the next row\n",
    "\n",
    "    # Read the label CSV file\n",
    "    label_df = pd.read_csv(label_path)\n",
    "    \n",
    "    # Filter out rows where the 'frame' is less than the 'start_frame'\n",
    "    label_df_filtered = label_df[label_df['frame'] >= start_frame].copy()\n",
    "\n",
    "    # Reset the 'frame' values to start from 0\n",
    "    label_df_filtered['frame'] = label_df_filtered['frame'] - start_frame\n",
    "\n",
    "    # Write the modified DataFrame back to the CSV file\n",
    "    label_df_filtered.to_csv(new_path, index=False)\n",
    "\n",
    "    print(f\"Processed and updated {label_file}.csv\")\n"
   ]
  }
 ],
 "metadata": {
  "kernelspec": {
   "display_name": "audio-gpu",
   "language": "python",
   "name": "audio-gpu"
  },
  "language_info": {
   "codemirror_mode": {
    "name": "ipython",
    "version": 3
   },
   "file_extension": ".py",
   "mimetype": "text/x-python",
   "name": "python",
   "nbconvert_exporter": "python",
   "pygments_lexer": "ipython3",
   "version": "3.8.16"
  }
 },
 "nbformat": 4,
 "nbformat_minor": 5
}
